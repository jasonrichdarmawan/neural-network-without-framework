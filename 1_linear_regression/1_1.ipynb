{
 "cells": [
  {
   "cell_type": "markdown",
   "metadata": {},
   "source": [
    "# TODO"
   ]
  },
  {
   "cell_type": "code",
   "execution_count": 146,
   "metadata": {},
   "outputs": [],
   "source": [
    "# Reference:\n",
    "# 1. https://medium.com/deep-learning-construction/neural-network-build-from-scratch-without-frameworks-1-302dcfb46127\n",
    "\n",
    "# What is the learning objectives of deep learning?\n",
    "# To minimize the value of the loss function\n",
    "# For example, a linear regression y = w*x + b\n",
    "# the weights (w), and bias (b) are adjusted during the training process\n",
    "# the loss function is (ŷ - y)² where ŷ is the prediction and y is the actual value."
   ]
  },
  {
   "cell_type": "code",
   "execution_count": 4,
   "metadata": {},
   "outputs": [
    {
     "name": "stdout",
     "output_type": "stream",
     "text": [
      "4\n"
     ]
    }
   ],
   "source": [
    "from typing import Callable\n",
    "\n",
    "class Model:\n",
    "    x_train: list[list[int]]\n",
    "    loss_function: Callable[[int, int], int]\n",
    "\n",
    "    def __init__(self,\n",
    "                 loss_function: Callable[[int, int], int]):\n",
    "        self.loss_function = loss_function\n",
    "        \n",
    "    def fit(self, x_training: list[list[int]], y_training: list[int]):\n",
    "        self.x_training = x_training\n",
    "        self.y_training = y_training\n",
    "        print(self.loss_function(3,1))\n",
    "\n",
    "loss_function: Callable[[int, int], int] = lambda ŷ, y: (ŷ - y)**2\n",
    "model = Model(loss_function)\n",
    "model.fit([[1], [1]], [1])"
   ]
  }
 ],
 "metadata": {
  "kernelspec": {
   "display_name": "Python 3",
   "language": "python",
   "name": "python3"
  },
  "language_info": {
   "codemirror_mode": {
    "name": "ipython",
    "version": 3
   },
   "file_extension": ".py",
   "mimetype": "text/x-python",
   "name": "python",
   "nbconvert_exporter": "python",
   "pygments_lexer": "ipython3",
   "version": "3.12.2"
  }
 },
 "nbformat": 4,
 "nbformat_minor": 2
}
